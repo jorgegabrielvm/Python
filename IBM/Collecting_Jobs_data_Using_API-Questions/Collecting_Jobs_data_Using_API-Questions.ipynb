{
  "cells": [
    {
      "cell_type": "markdown",
      "metadata": {
        "id": "PQfrCmEOMGnI"
      },
      "source": [
        "<p style=\"text-align:center\">\n",
        "    <a href=\"https://skills.network/?utm_medium=Exinfluencer&utm_source=Exinfluencer&utm_content=000026UJ&utm_term=10006555&utm_id=NA-SkillsNetwork-Channel-SkillsNetworkCoursesIBMDA0321ENSkillsNetwork928-2022-01-01\" target=\"_blank\">\n",
        "    <img src=\"https://cf-courses-data.s3.us.cloud-object-storage.appdomain.cloud/assets/logos/SN_web_lightmode.png\" width=\"200\" alt=\"Skills Network Logo\"  />\n",
        "    </a>\n",
        "</p>\n"
      ]
    },
    {
      "cell_type": "markdown",
      "metadata": {
        "id": "SY45yBQmMGnJ"
      },
      "source": [
        "# **Collecting Job Data Using APIs**\n"
      ]
    },
    {
      "cell_type": "markdown",
      "metadata": {
        "id": "vidruePmMGnJ"
      },
      "source": [
        "Estimated time needed: **45 to 60** minutes\n"
      ]
    },
    {
      "cell_type": "markdown",
      "metadata": {
        "id": "frecXwQjMGnK"
      },
      "source": [
        "## Objectives\n"
      ]
    },
    {
      "cell_type": "markdown",
      "metadata": {
        "id": "y2CFvUMeMGnK"
      },
      "source": [
        "After completing this lab, you will be able to:\n"
      ]
    },
    {
      "cell_type": "markdown",
      "metadata": {
        "id": "C-RcUFcXMGnK"
      },
      "source": [
        "*   Collect job data from Jobs API\n",
        "*   Store the collected data into an excel spreadsheet.\n"
      ]
    },
    {
      "cell_type": "markdown",
      "metadata": {
        "id": "ChEb5mYRMGnK"
      },
      "source": [
        "><strong>Note: Before starting with the assignment make sure to read all the instructions and then move ahead with the coding part.</strong>\n"
      ]
    },
    {
      "cell_type": "markdown",
      "metadata": {
        "id": "6BDxDgcQMGnK"
      },
      "source": [
        "#### Instructions\n"
      ]
    },
    {
      "cell_type": "markdown",
      "metadata": {
        "id": "d5kgAaVPMGnK"
      },
      "source": [
        "To run the actual lab, firstly you need to click on the [Jobs_API](https://cf-courses-data.s3.us.cloud-object-storage.appdomain.cloud/IBM-DA0321EN-SkillsNetwork/labs/module%201/Accessing%20Data%20Using%20APIs/Jobs_API.ipynb) notebook link. The file contains flask code which is required to run the Jobs API data.\n",
        "\n",
        "Now, to run the code in the file that opens up follow the below steps.\n",
        "\n",
        "Step1: Download the file.\n",
        "\n",
        "Step2: Upload it on the IBM Watson studio. (If IBM Watson Cloud service does not work in your system, follow the alternate Step 2 below)\n",
        "\n",
        "Step2(alternate): Upload it in your SN labs environment using the upload button which is highlighted in red in the image below:\n",
        "Remember to upload this Jobs_API file in the same folder as your current .ipynb file\n",
        "\n",
        "<img src=\"https://cf-courses-data.s3.us.cloud-object-storage.appdomain.cloud/IBM-DA0321EN-SkillsNetwork/labs/module%201/Accessing%20Data%20Using%20APIs/Upload.PNG\">\n",
        "\n",
        "Step3:  Run all the cells of the Jobs_API file. (Even if you receive an asterik sign after running the last cell, the code works fine.)\n",
        "\n",
        "If you want to learn more about flask, which is optional, you can click on this link [here](https://cf-courses-data.s3.us.cloud-object-storage.appdomain.cloud/IBM-DA0321EN-SkillsNetwork/labs/module%201/Accessing%20Data%20Using%20APIs/FLASK_API.md.html).\n",
        "\n",
        "Once you run the flask code, you can start with your assignment.\n"
      ]
    },
    {
      "cell_type": "markdown",
      "metadata": {
        "id": "nxth7x6DMGnL"
      },
      "source": [
        "## Dataset Used in this Assignment\n",
        "\n",
        "The dataset used in this lab comes from the following source: https://www.kaggle.com/promptcloud/jobs-on-naukricom under the under a **Public Domain license**.\n",
        "\n",
        "> Note: We are using a modified subset of that dataset for the lab, so to follow the lab instructions successfully please use the dataset provided with the lab, rather than the dataset from the original source.\n",
        "\n",
        "The original dataset is a csv. We have converted the csv to json as per the requirement of the lab.\n"
      ]
    },
    {
      "cell_type": "markdown",
      "metadata": {
        "id": "ylpit-6FMGnL"
      },
      "source": [
        "## Warm-Up Exercise\n"
      ]
    },
    {
      "cell_type": "markdown",
      "metadata": {
        "id": "3MZRR9jrMGnM"
      },
      "source": [
        "Before you attempt the actual lab, here is a fully solved warmup exercise that will help you to learn how to access an API.\n"
      ]
    },
    {
      "cell_type": "markdown",
      "metadata": {
        "id": "wiY68b38MGnM"
      },
      "source": [
        "Using an API, let us find out who currently are on the International Space Station (ISS).<br> The API at [http://api.open-notify.org/astros.json](http://api.open-notify.org/astros.json?utm_medium=Exinfluencer&utm_source=Exinfluencer&utm_content=000026UJ&utm_term=10006555&utm_id=NA-SkillsNetwork-Channel-SkillsNetworkCoursesIBMDA0321ENSkillsNetwork21426264-2021-01-01&cm_mmc=Email_Newsletter-_-Developer_Ed%2BTech-_-WW_WW-_-SkillsNetwork-Courses-IBM-DA0321EN-SkillsNetwork-21426264&cm_mmca1=000026UJ&cm_mmca2=10006555&cm_mmca3=M12345678&cvosrc=email.Newsletter.M12345678&cvo_campaign=000026UJ) gives us the information of astronauts currently on ISS in json format.<br>\n",
        "You can read more about this API at [http://open-notify.org/Open-Notify-API/People-In-Space/](http://open-notify.org/Open-Notify-API/People-In-Space?utm_medium=Exinfluencer&utm_source=Exinfluencer&utm_content=000026UJ&utm_term=10006555&utm_id=NA-SkillsNetwork-Channel-SkillsNetworkCoursesIBMDA0321ENSkillsNetwork21426264-2021-01-01&cm_mmc=Email_Newsletter-_-Developer_Ed%2BTech-_-WW_WW-_-SkillsNetwork-Courses-IBM-DA0321EN-SkillsNetwork-21426264&cm_mmca1=000026UJ&cm_mmca2=10006555&cm_mmca3=M12345678&cvosrc=email.Newsletter.M12345678&cvo_campaign=000026UJ)\n"
      ]
    },
    {
      "cell_type": "code",
      "execution_count": 13,
      "metadata": {
        "tags": [],
        "id": "KnKPBrIiMGnM"
      },
      "outputs": [],
      "source": [
        "import requests # you need this module to make an API call\n",
        "import pandas as pd"
      ]
    },
    {
      "cell_type": "code",
      "execution_count": 14,
      "metadata": {
        "tags": [],
        "id": "pGXkixr7MGnN"
      },
      "outputs": [],
      "source": [
        "api_url = \"http://api.open-notify.org/astros.json\" # this url gives use the astronaut data"
      ]
    },
    {
      "cell_type": "code",
      "execution_count": 15,
      "metadata": {
        "tags": [],
        "id": "NdPocjRoMGnN"
      },
      "outputs": [],
      "source": [
        "response = requests.get(api_url) # Call the API using the get method and store the\n",
        "                                # output of the API call in a variable called response."
      ]
    },
    {
      "cell_type": "code",
      "execution_count": 16,
      "metadata": {
        "tags": [],
        "id": "CvNb_QeLMGnN"
      },
      "outputs": [],
      "source": [
        "if response.ok:             # if all is well() no errors, no network timeouts)\n",
        "    data = response.json()  # store the result in json format in a variable called data\n",
        "                            # the variable data is of type dictionary."
      ]
    },
    {
      "cell_type": "code",
      "execution_count": 17,
      "metadata": {
        "tags": [],
        "colab": {
          "base_uri": "https://localhost:8080/"
        },
        "id": "N-1SJIJsMGnN",
        "outputId": "2449fa88-c14f-4226-e4fa-bf3e59344308"
      },
      "outputs": [
        {
          "output_type": "stream",
          "name": "stdout",
          "text": [
            "{'number': 10, 'people': [{'name': 'Sergey Prokopyev', 'craft': 'ISS'}, {'name': 'Dmitry Petelin', 'craft': 'ISS'}, {'name': 'Frank Rubio', 'craft': 'ISS'}, {'name': 'Stephen Bowen', 'craft': 'ISS'}, {'name': 'Warren Hoburg', 'craft': 'ISS'}, {'name': 'Sultan Alneyadi', 'craft': 'ISS'}, {'name': 'Andrey Fedyaev', 'craft': 'ISS'}, {'name': 'Jing Haiping', 'craft': 'Tiangong'}, {'name': 'Gui Haichow', 'craft': 'Tiangong'}, {'name': 'Zhu Yangzhu', 'craft': 'Tiangong'}], 'message': 'success'}\n"
          ]
        }
      ],
      "source": [
        "print(data)   # print the data just to check the output or for debugging"
      ]
    },
    {
      "cell_type": "markdown",
      "metadata": {
        "id": "F5mMUUzwMGnO"
      },
      "source": [
        "Print the number of astronauts currently on ISS.\n"
      ]
    },
    {
      "cell_type": "code",
      "execution_count": 18,
      "metadata": {
        "tags": [],
        "colab": {
          "base_uri": "https://localhost:8080/"
        },
        "id": "112THq3OMGnO",
        "outputId": "95539b30-1d5a-435e-a9cf-8710a327dc75"
      },
      "outputs": [
        {
          "output_type": "stream",
          "name": "stdout",
          "text": [
            "10\n"
          ]
        }
      ],
      "source": [
        "print(data.get('number'))"
      ]
    },
    {
      "cell_type": "markdown",
      "metadata": {
        "id": "YzCPVykCMGnO"
      },
      "source": [
        "Print the names of the astronauts currently on ISS.\n"
      ]
    },
    {
      "cell_type": "code",
      "execution_count": null,
      "metadata": {
        "tags": [],
        "id": "YlIhN-V5MGnO",
        "outputId": "89f139d1-aff3-4d62-de57-fc3fbcdf851b"
      },
      "outputs": [
        {
          "name": "stdout",
          "output_type": "stream",
          "text": [
            "There are 10 astronauts on ISS\n",
            "And their names are :\n",
            "Sergey Prokopyev\n",
            "Dmitry Petelin\n",
            "Frank Rubio\n",
            "Stephen Bowen\n",
            "Warren Hoburg\n",
            "Sultan Alneyadi\n",
            "Andrey Fedyaev\n",
            "Jing Haiping\n",
            "Gui Haichow\n",
            "Zhu Yangzhu\n"
          ]
        }
      ],
      "source": [
        "astronauts = data.get('people')\n",
        "print(\"There are {} astronauts on ISS\".format(len(astronauts)))\n",
        "print(\"And their names are :\")\n",
        "for astronaut in astronauts:\n",
        "    print(astronaut.get('name'))"
      ]
    },
    {
      "cell_type": "markdown",
      "metadata": {
        "id": "U0BIofCsMGnO"
      },
      "source": [
        "Hope the warmup was helpful. Good luck with your next lab!\n"
      ]
    },
    {
      "cell_type": "markdown",
      "metadata": {
        "id": "CYNUY96MMGnO"
      },
      "source": [
        "## Lab: Collect Jobs Data using Jobs API\n"
      ]
    },
    {
      "cell_type": "markdown",
      "metadata": {
        "id": "_Gjf_-n1MGnP"
      },
      "source": [
        "### Objective: Determine the number of jobs currently open for various technologies  and for various locations\n"
      ]
    },
    {
      "cell_type": "markdown",
      "metadata": {
        "id": "htQlLmCBMGnP"
      },
      "source": [
        "Collect the number of job postings for the following locations using the API:\n",
        "\n",
        "* Los Angeles\n",
        "* New York\n",
        "* San Francisco\n",
        "* Washington DC\n",
        "* Seattle\n",
        "* Austin\n",
        "* Detroit\n"
      ]
    },
    {
      "cell_type": "code",
      "execution_count": null,
      "metadata": {
        "tags": [],
        "id": "mXXlMp5mMGnP"
      },
      "outputs": [],
      "source": [
        "#Import required libraries\n",
        "import pandas as pd\n",
        "import json"
      ]
    },
    {
      "cell_type": "markdown",
      "metadata": {
        "id": "Wk9m6iPBMGnP"
      },
      "source": [
        "#### Write a function to get the number of jobs for the Python technology.<br>\n",
        "> Note: While using the lab you need to pass the **payload** information for the **params** attribute in the form of **key** **value** pairs.\n",
        "  Refer the ungraded **rest api lab** in the course **Python for Data Science, AI & Development**  <a href=\"https://www.coursera.org/learn/python-for-applied-data-science-ai/ungradedLti/P6sW8/hands-on-lab-access-rest-apis-request-http?utm_medium=Exinfluencer&utm_source=Exinfluencer&utm_content=000026UJ&utm_term=10006555&utm_id=NA-SkillsNetwork-Channel-SkillsNetworkCoursesIBMDA0321ENSkillsNetwork928-2022-01-01\">link</a>\n",
        "  \n",
        " ##### The keys in the json are\n",
        " * Job Title\n",
        "\n",
        " * Job Experience Required\n",
        "\n",
        " * Key Skills\n",
        "\n",
        " * Role Category\n",
        "\n",
        " * Location\n",
        "\n",
        " * Functional Area\n",
        "\n",
        " * Industry\n",
        "\n",
        " * Role\n",
        "\n",
        "You can also view  the json file contents  from the following <a href = \"https://cf-courses-data.s3.us.cloud-object-storage.appdomain.cloud/IBM-DA0321EN-SkillsNetwork/labs/module%201/Accessing%20Data%20Using%20APIs/jobs.json\">json</a> URL.\n"
      ]
    },
    {
      "cell_type": "code",
      "execution_count": null,
      "metadata": {
        "tags": [],
        "id": "djZ_22wKMGnP",
        "outputId": "f8adfbc0-af6f-43fa-8a11-197b0d1ca4af"
      },
      "outputs": [
        {
          "name": "stdout",
          "output_type": "stream",
          "text": [
            "There are 27005 Job Titles\n"
          ]
        }
      ],
      "source": [
        "api_url = \"http://127.0.0.1:5000/data\"\n",
        "\n",
        "jobs = data[1]\n",
        "print(\"There are {} Job Titles\".format(len(data)))\n"
      ]
    },
    {
      "cell_type": "code",
      "execution_count": null,
      "metadata": {
        "tags": [],
        "id": "cZahD86JMGnP",
        "outputId": "997a2a0c-ed80-4b59-e3d9-bfeb271897e2"
      },
      "outputs": [
        {
          "data": {
            "text/plain": [
              "27005"
            ]
          },
          "execution_count": 7,
          "metadata": {},
          "output_type": "execute_result"
        }
      ],
      "source": [
        "veces = 0\n",
        "\n",
        "for i in data:\n",
        "    keys = list(i.keys())  # Convert dictionary keys to a list\n",
        "    veces +=1\n",
        "\n",
        "veces"
      ]
    },
    {
      "cell_type": "code",
      "execution_count": null,
      "metadata": {
        "tags": [],
        "id": "YXJ5R9ZwMGnP"
      },
      "outputs": [],
      "source": [
        "def get_number_of_jobs_T(technology):\n",
        "\n",
        "    count = 0\n",
        "\n",
        "    for i in data:\n",
        "        if 'Key Skills' in i and technology in i['Key Skills']:\n",
        "            count += 1\n",
        "\n",
        "    print(count)"
      ]
    },
    {
      "cell_type": "code",
      "execution_count": null,
      "metadata": {
        "tags": [],
        "id": "k6PgEM4XMGnP",
        "outputId": "6847fd27-f628-40c7-b479-e3c2dfe56d82"
      },
      "outputs": [
        {
          "name": "stdout",
          "output_type": "stream",
          "text": [
            "2636\n"
          ]
        }
      ],
      "source": [
        "get_number_of_jobs_T(\"SQL\")"
      ]
    },
    {
      "cell_type": "markdown",
      "metadata": {
        "id": "D9SlRBBPMGnQ"
      },
      "source": [
        "Calling the function for Python and checking if it works.\n"
      ]
    },
    {
      "cell_type": "code",
      "execution_count": null,
      "metadata": {
        "tags": [],
        "id": "tUZhsg13MGnQ",
        "outputId": "c4fc165c-7884-4977-b8fe-07ab8e28c17f"
      },
      "outputs": [
        {
          "name": "stdout",
          "output_type": "stream",
          "text": [
            "1173\n"
          ]
        }
      ],
      "source": [
        "get_number_of_jobs_T(\"Python\")"
      ]
    },
    {
      "cell_type": "markdown",
      "metadata": {
        "id": "wS-JaMm-MGnQ"
      },
      "source": [
        "#### Write a function to find number of jobs in US for a location of your choice\n"
      ]
    },
    {
      "cell_type": "code",
      "execution_count": null,
      "metadata": {
        "tags": [],
        "id": "y4GGiVkDMGnQ"
      },
      "outputs": [],
      "source": [
        "def get_number_of_jobs_L(location):\n",
        "\n",
        "    number_of_jobs = 0\n",
        "\n",
        "    for i in data:\n",
        "        if 'Location' in i and location in i['Location']:\n",
        "            number_of_jobs += 1\n",
        "\n",
        "\n",
        "    return location,number_of_jobs"
      ]
    },
    {
      "cell_type": "markdown",
      "metadata": {
        "id": "9iGe_KZAMGnQ"
      },
      "source": [
        "Call the function for Los Angeles and check if it is working.\n",
        "\n",
        "\n"
      ]
    },
    {
      "cell_type": "markdown",
      "metadata": {
        "id": "l_8XrU3QMGnQ"
      },
      "source": [
        "Collect the number of job postings for the following locations using the API:\n",
        "\n",
        "* Los Angeles\n",
        "* New York\n",
        "* San Francisco\n",
        "* Washington DC\n",
        "* Seattle\n",
        "* Austin\n",
        "* Detroit"
      ]
    },
    {
      "cell_type": "code",
      "execution_count": null,
      "metadata": {
        "tags": [],
        "id": "yJy4k270MGna",
        "outputId": "baa5b78a-10cf-4e26-d277-61bbe727f7f8"
      },
      "outputs": [
        {
          "data": {
            "text/plain": [
              "('Miami', 0)"
            ]
          },
          "execution_count": 39,
          "metadata": {},
          "output_type": "execute_result"
        }
      ],
      "source": [
        "get_number_of_jobs_L(\"Miami\")\n",
        "\n",
        "miami = get_number_of_jobs_L(\"Miami\")\n",
        "\n",
        "miami\n"
      ]
    },
    {
      "cell_type": "code",
      "execution_count": null,
      "metadata": {
        "tags": [],
        "id": "pCchb-RWMGna"
      },
      "outputs": [],
      "source": [
        "get_number_of_jobs_L(\"Los Angeles\")\n",
        "\n",
        "los_angeles = get_number_of_jobs_L(\"Los Angeles\")\n"
      ]
    },
    {
      "cell_type": "code",
      "execution_count": null,
      "metadata": {
        "tags": [],
        "id": "ZmzSjKqLMGna"
      },
      "outputs": [],
      "source": [
        "get_number_of_jobs_L(\"New York\")\n",
        "\n",
        "new_york = get_number_of_jobs_L(\"New York\")\n"
      ]
    },
    {
      "cell_type": "code",
      "execution_count": null,
      "metadata": {
        "tags": [],
        "id": "9hiC5morMGna"
      },
      "outputs": [],
      "source": [
        "get_number_of_jobs_L(\"San Francisco\")\n",
        "\n",
        "san_francisco = get_number_of_jobs_L(\"San Francisco\")\n"
      ]
    },
    {
      "cell_type": "code",
      "execution_count": null,
      "metadata": {
        "tags": [],
        "id": "UswmVMjWMGna"
      },
      "outputs": [],
      "source": [
        "get_number_of_jobs_L(\"Washington DC\")\n",
        "\n",
        "washington_dc = get_number_of_jobs_L(\"Washington DC\")\n"
      ]
    },
    {
      "cell_type": "code",
      "execution_count": null,
      "metadata": {
        "tags": [],
        "id": "ElIlGU9ZMGnb"
      },
      "outputs": [],
      "source": [
        "get_number_of_jobs_L(\"Seattle\")\n",
        "\n",
        "seattle = get_number_of_jobs_L(\"Seattle\")\n"
      ]
    },
    {
      "cell_type": "code",
      "execution_count": null,
      "metadata": {
        "tags": [],
        "id": "4PiwGozUMGnb"
      },
      "outputs": [],
      "source": [
        "get_number_of_jobs_L(\"Detroit\")\n",
        "\n",
        "detroit = get_number_of_jobs_L(\"Detroit\")\n"
      ]
    },
    {
      "cell_type": "code",
      "execution_count": null,
      "metadata": {
        "tags": [],
        "id": "jlvZiLDPMGnb",
        "outputId": "3b44c0fc-e846-4904-ad88-9696f93278df"
      },
      "outputs": [
        {
          "data": {
            "text/plain": [
              "('Detroit', 3945)"
            ]
          },
          "execution_count": 38,
          "metadata": {},
          "output_type": "execute_result"
        }
      ],
      "source": [
        "get_number_of_jobs_L(\"Detroit\")\n"
      ]
    },
    {
      "cell_type": "code",
      "execution_count": null,
      "metadata": {
        "tags": [],
        "id": "jBYx62C4MGnb",
        "outputId": "e98236c5-3845-42b3-aa40-d0ab21c2cc85"
      },
      "outputs": [
        {
          "data": {
            "text/plain": [
              "'Detroit'"
            ]
          },
          "execution_count": 41,
          "metadata": {},
          "output_type": "execute_result"
        }
      ],
      "source": [
        "location = detroit[0]\n",
        "location"
      ]
    },
    {
      "cell_type": "markdown",
      "metadata": {
        "id": "GZ1rq-ILMGnb"
      },
      "source": [
        "### Store the results in an excel file\n"
      ]
    },
    {
      "cell_type": "markdown",
      "metadata": {
        "id": "VtPBTENZMGnb"
      },
      "source": [
        "Call the API for all the given technologies above and write the results in an excel spreadsheet.\n"
      ]
    },
    {
      "cell_type": "markdown",
      "metadata": {
        "id": "G5ar-jyyMGnb"
      },
      "source": [
        "If you do not know how create excel file using python, double click here for **hints**.\n",
        "\n",
        "<!--\n",
        "\n",
        "from openpyxl import Workbook        # import Workbook class from module openpyxl\n",
        "wb=Workbook()                        # create a workbook object\n",
        "ws=wb.active                         # use the active worksheet\n",
        "ws.append(['Country','Continent'])   # add a row with two columns 'Country' and 'Continent'\n",
        "ws.append(['Eygpt','Africa'])        # add a row with two columns 'Egypt' and 'Africa'\n",
        "ws.append(['India','Asia'])          # add another row\n",
        "ws.append(['France','Europe'])       # add another row\n",
        "wb.save(\"countries.xlsx\")            # save the workbook into a file called countries.xlsx\n",
        "\n",
        "\n",
        "-->\n"
      ]
    },
    {
      "cell_type": "markdown",
      "metadata": {
        "id": "WbL0Mj8PMGnb"
      },
      "source": [
        "Create a python list of all locations for which you need to find the number of jobs postings.\n"
      ]
    },
    {
      "cell_type": "code",
      "execution_count": null,
      "metadata": {
        "tags": [],
        "id": "U-LV1MovMGnc"
      },
      "outputs": [],
      "source": [
        "jobs_list = [miami, los_angeles, new_york, san_francisco, washington_dc, seattle, detroit]"
      ]
    },
    {
      "cell_type": "markdown",
      "metadata": {
        "id": "_u_ivE7BMGnc"
      },
      "source": [
        "Import libraries required to create excel spreadsheet\n"
      ]
    },
    {
      "cell_type": "code",
      "execution_count": null,
      "metadata": {
        "tags": [],
        "id": "yzMwPL9UMGnc",
        "outputId": "3de86fc1-3231-4125-bc4e-5fdd740dc410"
      },
      "outputs": [
        {
          "name": "stdout",
          "output_type": "stream",
          "text": [
            "Collecting openpyxl\n",
            "  Downloading openpyxl-3.1.2-py2.py3-none-any.whl (249 kB)\n",
            "\u001b[2K     \u001b[90m━━━━━━━━━━━━━━━━━━━━━━━━━━━━━━━━━━━━━━\u001b[0m \u001b[32m250.0/250.0 kB\u001b[0m \u001b[31m25.9 MB/s\u001b[0m eta \u001b[36m0:00:00\u001b[0m\n",
            "\u001b[?25hCollecting et-xmlfile (from openpyxl)\n",
            "  Downloading et_xmlfile-1.1.0-py3-none-any.whl (4.7 kB)\n",
            "Installing collected packages: et-xmlfile, openpyxl\n",
            "Successfully installed et-xmlfile-1.1.0 openpyxl-3.1.2\n"
          ]
        }
      ],
      "source": [
        "!pip install openpyxl"
      ]
    },
    {
      "cell_type": "code",
      "execution_count": null,
      "metadata": {
        "tags": [],
        "id": "nr2NISKyMGnc"
      },
      "outputs": [],
      "source": [
        "import pandas as pd\n",
        "from openpyxl import Workbook\n",
        "from openpyxl.utils import get_column_letter\n"
      ]
    },
    {
      "cell_type": "markdown",
      "metadata": {
        "id": "sMqfpqslMGnc"
      },
      "source": [
        "Create a workbook and select the active worksheet\n"
      ]
    },
    {
      "cell_type": "code",
      "execution_count": null,
      "metadata": {
        "tags": [],
        "id": "S-hY1lcRMGnd"
      },
      "outputs": [],
      "source": [
        "workbook = Workbook()\n",
        "worksheet = workbook.active"
      ]
    },
    {
      "cell_type": "markdown",
      "metadata": {
        "id": "PYV3tEN3MGnd"
      },
      "source": [
        "Find the number of jobs postings for each of the location in the above list.\n",
        "Write the Location name and the number of jobs postings into the excel spreadsheet.\n"
      ]
    },
    {
      "cell_type": "code",
      "execution_count": null,
      "metadata": {
        "tags": [],
        "id": "JVA5_IlfMGnd"
      },
      "outputs": [],
      "source": [
        "# Create a DataFrame from the list of variables\n",
        "df = pd.DataFrame(jobs_list, columns=['Location', 'Number of Jobs'])\n",
        "\n",
        "# Create an Excel writer object\n",
        "writer = pd.ExcelWriter('job-posting.xlsx')\n",
        "\n",
        "df.to_excel(writer, index=False, sheet_name='Sheet1')\n"
      ]
    },
    {
      "cell_type": "markdown",
      "metadata": {
        "id": "vLHV47TnMGnd"
      },
      "source": [
        "Save into an excel spreadsheet named 'job-postings.xlsx'.\n"
      ]
    },
    {
      "cell_type": "code",
      "execution_count": null,
      "metadata": {
        "tags": [],
        "id": "WnQ_m6TOMGnd"
      },
      "outputs": [],
      "source": [
        "writer.save()\n"
      ]
    },
    {
      "cell_type": "code",
      "execution_count": null,
      "metadata": {
        "tags": [],
        "id": "ftf5ZhU5MGne",
        "outputId": "5cd95291-dd20-41cb-d69e-edd346e219ab"
      },
      "outputs": [
        {
          "data": {
            "text/html": [
              "<div>\n",
              "<style scoped>\n",
              "    .dataframe tbody tr th:only-of-type {\n",
              "        vertical-align: middle;\n",
              "    }\n",
              "\n",
              "    .dataframe tbody tr th {\n",
              "        vertical-align: top;\n",
              "    }\n",
              "\n",
              "    .dataframe thead th {\n",
              "        text-align: right;\n",
              "    }\n",
              "</style>\n",
              "<table border=\"1\" class=\"dataframe\">\n",
              "  <thead>\n",
              "    <tr style=\"text-align: right;\">\n",
              "      <th></th>\n",
              "      <th>Location</th>\n",
              "      <th>Number of Jobs</th>\n",
              "    </tr>\n",
              "  </thead>\n",
              "  <tbody>\n",
              "    <tr>\n",
              "      <th>0</th>\n",
              "      <td>Miami</td>\n",
              "      <td>0</td>\n",
              "    </tr>\n",
              "    <tr>\n",
              "      <th>1</th>\n",
              "      <td>Los Angeles</td>\n",
              "      <td>640</td>\n",
              "    </tr>\n",
              "    <tr>\n",
              "      <th>2</th>\n",
              "      <td>New York</td>\n",
              "      <td>3226</td>\n",
              "    </tr>\n",
              "    <tr>\n",
              "      <th>3</th>\n",
              "      <td>San Francisco</td>\n",
              "      <td>435</td>\n",
              "    </tr>\n",
              "    <tr>\n",
              "      <th>4</th>\n",
              "      <td>Washington DC</td>\n",
              "      <td>5316</td>\n",
              "    </tr>\n",
              "    <tr>\n",
              "      <th>5</th>\n",
              "      <td>Seattle</td>\n",
              "      <td>3375</td>\n",
              "    </tr>\n",
              "    <tr>\n",
              "      <th>6</th>\n",
              "      <td>Detroit</td>\n",
              "      <td>3945</td>\n",
              "    </tr>\n",
              "  </tbody>\n",
              "</table>\n",
              "</div>"
            ],
            "text/plain": [
              "        Location  Number of Jobs\n",
              "0          Miami               0\n",
              "1    Los Angeles             640\n",
              "2       New York            3226\n",
              "3  San Francisco             435\n",
              "4  Washington DC            5316\n",
              "5        Seattle            3375\n",
              "6        Detroit            3945"
            ]
          },
          "execution_count": 51,
          "metadata": {},
          "output_type": "execute_result"
        }
      ],
      "source": [
        "# Read the Excel file\n",
        "df = pd.read_excel('job-posting.xlsx', sheet_name='Sheet1')\n",
        "\n",
        "# Display the DataFrame\n",
        "df"
      ]
    },
    {
      "cell_type": "markdown",
      "metadata": {
        "tags": [],
        "id": "ngLBU8CbMGne"
      },
      "source": [
        "#### In the similar way, you can try for below given technologies and results  can be stored in an excel sheet.\n"
      ]
    },
    {
      "cell_type": "markdown",
      "metadata": {
        "id": "PGULEXaTMGne"
      },
      "source": [
        "Collect the number of job postings for the following languages using the API:\n",
        "\n",
        "*   C\n",
        "*   C#\n",
        "*   C++\n",
        "*   Java\n",
        "*   JavaScript\n",
        "*   Python\n",
        "*   Scala\n",
        "*   Oracle\n",
        "*   SQL Server\n",
        "*   MySQL Server\n",
        "*   PostgreSQL\n",
        "*   MongoDB\n"
      ]
    },
    {
      "cell_type": "markdown",
      "metadata": {
        "id": "3EuWDcc8MGne"
      },
      "source": [
        "## Author\n"
      ]
    },
    {
      "cell_type": "markdown",
      "metadata": {
        "id": "VWEPVzmBMGne"
      },
      "source": [
        "Ayushi Jain\n"
      ]
    },
    {
      "cell_type": "markdown",
      "metadata": {
        "id": "gXVRrWRqMGne"
      },
      "source": [
        "### Other Contributors\n"
      ]
    },
    {
      "cell_type": "markdown",
      "metadata": {
        "id": "W7UuqpCLMGne"
      },
      "source": [
        "Rav Ahuja\n",
        "\n",
        "Lakshmi Holla\n",
        "\n",
        "Malika\n"
      ]
    },
    {
      "cell_type": "markdown",
      "metadata": {
        "id": "TEka4PVYMGnf"
      },
      "source": [
        "## Change Log\n"
      ]
    },
    {
      "cell_type": "markdown",
      "metadata": {
        "id": "zv1M5HorMGnf"
      },
      "source": [
        "| Date (YYYY-MM-DD) | Version | Changed By        | Change Description                 |\n",
        "| ----------------- | ------- | ----------------- | ---------------------------------- |\n",
        "| 2022-01-19        | 0.3     | Lakshmi Holla        | Added changes in the markdown      |\n",
        "| 2021-06-25        | 0.2     | Malika            | Updated GitHub job json link       |\n",
        "| 2020-10-17        | 0.1     | Ramesh Sannareddy | Created initial version of the lab |\n"
      ]
    },
    {
      "cell_type": "markdown",
      "metadata": {
        "id": "sY_CnQ_jMGnf"
      },
      "source": [
        "Copyright © 2022 IBM Corporation. All rights reserved.\n"
      ]
    }
  ],
  "metadata": {
    "kernelspec": {
      "display_name": "Python",
      "language": "python",
      "name": "conda-env-python-py"
    },
    "language_info": {
      "codemirror_mode": {
        "name": "ipython",
        "version": 3
      },
      "file_extension": ".py",
      "mimetype": "text/x-python",
      "name": "python",
      "nbconvert_exporter": "python",
      "pygments_lexer": "ipython3",
      "version": "3.7.12"
    },
    "colab": {
      "provenance": []
    }
  },
  "nbformat": 4,
  "nbformat_minor": 0
}